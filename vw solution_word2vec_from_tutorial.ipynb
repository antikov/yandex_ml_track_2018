{
 "cells": [
  {
   "cell_type": "code",
   "execution_count": 1,
   "metadata": {},
   "outputs": [],
   "source": [
    "import pandas as pd\n",
    "import csv\n",
    "import numpy as np\n",
    "from sklearn.feature_extraction.text import TfidfVectorizer\n",
    "from scipy.sparse import csr_matrix, hstack\n",
    "from sklearn.svm import LinearSVC\n",
    "from sklearn.model_selection import GridSearchCV, StratifiedKFold\n",
    "from gensim.models import word2vec"
   ]
  },
  {
   "cell_type": "code",
   "execution_count": 2,
   "metadata": {},
   "outputs": [],
   "source": [
    "test = pd.read_csv(\"./data/final.tsv\", sep = \"\\t\", header = None, quoting=csv.QUOTE_NONE)"
   ]
  },
  {
   "cell_type": "code",
   "execution_count": 3,
   "metadata": {},
   "outputs": [],
   "source": [
    "test.columns = \"context_id,context_2,context_1,context_0,reply_id,reply\".split(\",\")"
   ]
  },
  {
   "cell_type": "code",
   "execution_count": 4,
   "metadata": {},
   "outputs": [],
   "source": [
    "test = test.replace(np.nan, '', regex=True)"
   ]
  },
  {
   "cell_type": "code",
   "execution_count": 5,
   "metadata": {},
   "outputs": [],
   "source": [
    "test['text'] = test['context_2'] + \" \" + test['context_1'] + ' ' + test['context_0'] + ' ' + test['reply']"
   ]
  },
  {
   "cell_type": "code",
   "execution_count": 6,
   "metadata": {},
   "outputs": [],
   "source": [
    "test['text_w2v'] = test['text'].apply(lambda x: x.strip().split())"
   ]
  },
  {
   "cell_type": "code",
   "execution_count": 7,
   "metadata": {},
   "outputs": [],
   "source": [
    "test['reply_w2v'] = test['reply'].apply(lambda x: x.strip().split())"
   ]
  },
  {
   "cell_type": "code",
   "execution_count": 8,
   "metadata": {},
   "outputs": [],
   "source": [
    "test['question'] = test['context_2'] + \" \" + test['context_1'] + ' ' + test['context_0']"
   ]
  },
  {
   "cell_type": "code",
   "execution_count": 9,
   "metadata": {},
   "outputs": [],
   "source": [
    "test['question_w2v'] = test['question'].apply(lambda x: x.strip().split())"
   ]
  },
  {
   "cell_type": "code",
   "execution_count": null,
   "metadata": {},
   "outputs": [],
   "source": []
  },
  {
   "cell_type": "code",
   "execution_count": 10,
   "metadata": {},
   "outputs": [],
   "source": [
    "df = pd.read_csv(\"./data/train.tsv\", sep = \"\\t\", header = None, quoting=csv.QUOTE_NONE)"
   ]
  },
  {
   "cell_type": "code",
   "execution_count": 11,
   "metadata": {},
   "outputs": [],
   "source": [
    "df.columns = \"context_id,context_2,context_1,context_0,reply_id,reply,label,confidence\".split(\",\")"
   ]
  },
  {
   "cell_type": "code",
   "execution_count": 12,
   "metadata": {},
   "outputs": [],
   "source": [
    "df = df.replace(np.nan, '', regex=True)"
   ]
  },
  {
   "cell_type": "code",
   "execution_count": 13,
   "metadata": {},
   "outputs": [],
   "source": [
    "df['text'] = df['context_2'] + \" \" + df['context_1'] + ' ' + df['context_0'] + ' ' + df['reply']"
   ]
  },
  {
   "cell_type": "code",
   "execution_count": 14,
   "metadata": {},
   "outputs": [],
   "source": [
    "df['text_w2v'] = df['text'].apply(lambda x: x.strip().split())"
   ]
  },
  {
   "cell_type": "code",
   "execution_count": 15,
   "metadata": {},
   "outputs": [],
   "source": [
    "df['reply_w2v'] = df['reply'].apply(lambda x: x.strip().split())"
   ]
  },
  {
   "cell_type": "code",
   "execution_count": 16,
   "metadata": {},
   "outputs": [],
   "source": [
    "df['question'] = df['context_2'] + \" \" + df['context_1'] + ' ' + df['context_0']"
   ]
  },
  {
   "cell_type": "code",
   "execution_count": 17,
   "metadata": {},
   "outputs": [],
   "source": [
    "df['question_w2v'] = df['question'].apply(lambda x: x.strip().split())"
   ]
  },
  {
   "cell_type": "code",
   "execution_count": 18,
   "metadata": {},
   "outputs": [],
   "source": [
    "def get_target(x):\n",
    "    if x == 'good':\n",
    "        return 2\n",
    "    if x == 'bad':\n",
    "        return 0\n",
    "    if x == 'neutral':\n",
    "        return 1"
   ]
  },
  {
   "cell_type": "code",
   "execution_count": 19,
   "metadata": {},
   "outputs": [],
   "source": [
    "df['target'] = df['label'].apply(lambda x: get_target(x))"
   ]
  },
  {
   "cell_type": "code",
   "execution_count": 20,
   "metadata": {},
   "outputs": [],
   "source": [
    "y = df['target']"
   ]
  },
  {
   "cell_type": "code",
   "execution_count": null,
   "metadata": {},
   "outputs": [],
   "source": []
  },
  {
   "cell_type": "code",
   "execution_count": 21,
   "metadata": {},
   "outputs": [
    {
     "name": "stderr",
     "output_type": "stream",
     "text": [
      "/home/antikov/.local/lib/python3.6/site-packages/ipykernel_launcher.py:9: DeprecationWarning: Call to deprecated `syn0` (Attribute will be removed in 4.0.0, use self.wv.vectors instead).\n",
      "  if __name__ == '__main__':\n"
     ]
    }
   ],
   "source": [
    "#объединим обучающую и тестовую выборки и обучим нашу модель на всех данных \n",
    "#с размером окна в 6=3*2(длина предложения 10 слов) и итоговыми векторами размерности 300, параметр workers отвечает за колчество ядер\n",
    "test['target'] = -1\n",
    "test['confidence'] = -1\n",
    "data = pd.concat([df,test],axis=0)\n",
    "\n",
    "model = word2vec.Word2Vec(data['text_w2v'], size=300, window=3, workers=4)\n",
    "#создадим словарь со словами и соответсвующими им векторами\n",
    "w2v = dict(zip(model.wv.index2word, model.wv.syn0))"
   ]
  },
  {
   "cell_type": "code",
   "execution_count": 22,
   "metadata": {},
   "outputs": [],
   "source": [
    "class mean_vectorizer(object):\n",
    "    def __init__(self, word2vec):\n",
    "        self.word2vec = word2vec\n",
    "        self.dim = len(next(iter(w2v.values())))\n",
    "    \n",
    "    def fit(self, X):\n",
    "        return self \n",
    "\n",
    "    def transform(self, X):\n",
    "        return np.array([\n",
    "            np.mean([self.word2vec[w] for w in words if w in self.word2vec] \n",
    "                    or [np.zeros(self.dim)], axis=0)\n",
    "            for words in X\n",
    "        ])"
   ]
  },
  {
   "cell_type": "code",
   "execution_count": 23,
   "metadata": {},
   "outputs": [
    {
     "data": {
      "text/plain": [
       "(97533, 300)"
      ]
     },
     "execution_count": 23,
     "metadata": {},
     "output_type": "execute_result"
    }
   ],
   "source": [
    "data_mean=mean_vectorizer(w2v).transform(df['question_w2v'])\n",
    "data_mean.shape"
   ]
  },
  {
   "cell_type": "code",
   "execution_count": 24,
   "metadata": {},
   "outputs": [],
   "source": [
    "data_mean2 = mean_vectorizer(w2v).transform(df['reply_w2v'])"
   ]
  },
  {
   "cell_type": "code",
   "execution_count": 25,
   "metadata": {},
   "outputs": [],
   "source": [
    "data_mean = np.hstack([data_mean, data_mean2])"
   ]
  },
  {
   "cell_type": "code",
   "execution_count": 26,
   "metadata": {},
   "outputs": [
    {
     "data": {
      "text/plain": [
       "(97533, 600)"
      ]
     },
     "execution_count": 26,
     "metadata": {},
     "output_type": "execute_result"
    }
   ],
   "source": [
    "data_mean.shape"
   ]
  },
  {
   "cell_type": "code",
   "execution_count": 27,
   "metadata": {},
   "outputs": [],
   "source": [
    "test_mean = mean_vectorizer(w2v).transform(test['question_w2v'])"
   ]
  },
  {
   "cell_type": "code",
   "execution_count": 28,
   "metadata": {},
   "outputs": [],
   "source": [
    "test_mean2 = mean_vectorizer(w2v).transform(test['reply_w2v'])"
   ]
  },
  {
   "cell_type": "code",
   "execution_count": 29,
   "metadata": {},
   "outputs": [],
   "source": [
    "test_mean = np.hstack([test_mean, test_mean2])"
   ]
  },
  {
   "cell_type": "code",
   "execution_count": 30,
   "metadata": {},
   "outputs": [
    {
     "data": {
      "text/plain": [
       "(104834, 600)"
      ]
     },
     "execution_count": 30,
     "metadata": {},
     "output_type": "execute_result"
    }
   ],
   "source": [
    "test_mean.shape"
   ]
  },
  {
   "cell_type": "code",
   "execution_count": 31,
   "metadata": {},
   "outputs": [],
   "source": [
    "#пропишем класс выполняющий tfidf преобразование.\n",
    "from sklearn.feature_extraction.text import TfidfVectorizer\n",
    "from collections import defaultdict\n",
    "\n",
    "class tfidf_vectorizer(object):\n",
    "    def __init__(self, word2vec):\n",
    "        self.word2vec = word2vec\n",
    "        self.word2weight = None\n",
    "        self.dim = len(next(iter(w2v.values())))\n",
    "\n",
    "    def fit(self, X):\n",
    "        tfidf = TfidfVectorizer(analyzer=lambda x: x)\n",
    "        tfidf.fit(X)\n",
    "        # if a word was never seen - it must be at least as infrequent\n",
    "        # as any of the known words - so the default idf is the max of \n",
    "        # known idf's\n",
    "        max_idf = max(tfidf.idf_)\n",
    "        self.word2weight = defaultdict(\n",
    "            lambda: max_idf,\n",
    "            [(w, tfidf.idf_[i]) for w, i in tfidf.vocabulary_.items()])\n",
    "\n",
    "        return self\n",
    "\n",
    "    def transform(self, X):\n",
    "        return np.array([\n",
    "                np.mean([self.word2vec[w] * self.word2weight[w]\n",
    "                         for w in words if w in self.word2vec] or\n",
    "                        [np.zeros(self.dim)], axis=0)\n",
    "                for words in X\n",
    "            ])"
   ]
  },
  {
   "cell_type": "code",
   "execution_count": 39,
   "metadata": {},
   "outputs": [],
   "source": [
    "tfidf = tfidf_vectorizer(w2v).fit(df['text_w2v'])"
   ]
  },
  {
   "cell_type": "code",
   "execution_count": 40,
   "metadata": {},
   "outputs": [],
   "source": [
    "data_mean = tfidf.transform(df['question_w2v'])"
   ]
  },
  {
   "cell_type": "code",
   "execution_count": 41,
   "metadata": {},
   "outputs": [],
   "source": [
    "data_mean2 = tfidf.transform(df['reply_w2v'])"
   ]
  },
  {
   "cell_type": "code",
   "execution_count": null,
   "metadata": {},
   "outputs": [],
   "source": []
  },
  {
   "cell_type": "code",
   "execution_count": 42,
   "metadata": {},
   "outputs": [],
   "source": [
    "test_mean = tfidf.transform(test['question_w2v'])"
   ]
  },
  {
   "cell_type": "code",
   "execution_count": 43,
   "metadata": {},
   "outputs": [],
   "source": [
    "test_mean2 = tfidf.transform(test['reply_w2v'])"
   ]
  },
  {
   "cell_type": "code",
   "execution_count": 32,
   "metadata": {
    "scrolled": true
   },
   "outputs": [
    {
     "data": {
      "text/plain": [
       "((78026, 600), (19507, 600), 1.1710199164381103, 1.1740400881734763)"
      ]
     },
     "execution_count": 32,
     "metadata": {},
     "output_type": "execute_result"
    }
   ],
   "source": [
    "#Воспользуемся валидацией, как в 4 дз курса ODS\n",
    "def split(train,y,ratio):\n",
    "    idx = round(train.shape[0] * ratio)\n",
    "    return train[:idx, :], train[idx:, :], y[:idx], y[idx:]\n",
    "Xtr, Xval, ytr, yval = split(data_mean, y,0.8)\n",
    "Xtr.shape,Xval.shape,ytr.mean(),yval.mean()"
   ]
  },
  {
   "cell_type": "code",
   "execution_count": 34,
   "metadata": {},
   "outputs": [],
   "source": [
    "from catboost import CatBoostClassifier"
   ]
  },
  {
   "cell_type": "code",
   "execution_count": 44,
   "metadata": {},
   "outputs": [],
   "source": [
    "ctb = CatBoostClassifier(iterations=250, learning_rate = 0.1, loss_function='MultiClass')"
   ]
  },
  {
   "cell_type": "code",
   "execution_count": 45,
   "metadata": {},
   "outputs": [
    {
     "name": "stdout",
     "output_type": "stream",
     "text": [
      "0:\tlearn: -1.0665706\ttotal: 587ms\tremaining: 2m 26s\n",
      "1:\tlearn: -1.0397323\ttotal: 1.19s\tremaining: 2m 27s\n",
      "2:\tlearn: -1.0175476\ttotal: 1.82s\tremaining: 2m 29s\n",
      "3:\tlearn: -0.9986223\ttotal: 2.44s\tremaining: 2m 29s\n",
      "4:\tlearn: -0.9826308\ttotal: 3.05s\tremaining: 2m 29s\n",
      "5:\tlearn: -0.9688914\ttotal: 3.67s\tremaining: 2m 29s\n",
      "6:\tlearn: -0.9568110\ttotal: 4.28s\tremaining: 2m 28s\n",
      "7:\tlearn: -0.9465151\ttotal: 4.9s\tremaining: 2m 28s\n",
      "8:\tlearn: -0.9370151\ttotal: 5.53s\tremaining: 2m 28s\n",
      "9:\tlearn: -0.9291999\ttotal: 6.13s\tremaining: 2m 27s\n",
      "10:\tlearn: -0.9223522\ttotal: 6.73s\tremaining: 2m 26s\n",
      "11:\tlearn: -0.9160967\ttotal: 7.33s\tremaining: 2m 25s\n",
      "12:\tlearn: -0.9107832\ttotal: 7.92s\tremaining: 2m 24s\n",
      "13:\tlearn: -0.9057472\ttotal: 8.52s\tremaining: 2m 23s\n",
      "14:\tlearn: -0.9015536\ttotal: 9.12s\tremaining: 2m 22s\n",
      "15:\tlearn: -0.8977391\ttotal: 9.78s\tremaining: 2m 23s\n",
      "16:\tlearn: -0.8938831\ttotal: 10.4s\tremaining: 2m 22s\n",
      "17:\tlearn: -0.8907033\ttotal: 11s\tremaining: 2m 21s\n",
      "18:\tlearn: -0.8880538\ttotal: 11.6s\tremaining: 2m 20s\n",
      "19:\tlearn: -0.8855346\ttotal: 12.2s\tremaining: 2m 19s\n",
      "20:\tlearn: -0.8832234\ttotal: 12.8s\tremaining: 2m 19s\n",
      "21:\tlearn: -0.8810088\ttotal: 13.4s\tremaining: 2m 18s\n",
      "22:\tlearn: -0.8789896\ttotal: 13.9s\tremaining: 2m 17s\n",
      "23:\tlearn: -0.8773356\ttotal: 14.5s\tremaining: 2m 16s\n",
      "24:\tlearn: -0.8758424\ttotal: 15.1s\tremaining: 2m 15s\n",
      "25:\tlearn: -0.8741444\ttotal: 15.7s\tremaining: 2m 15s\n",
      "26:\tlearn: -0.8727388\ttotal: 16.3s\tremaining: 2m 14s\n",
      "27:\tlearn: -0.8711681\ttotal: 16.9s\tremaining: 2m 14s\n",
      "28:\tlearn: -0.8696191\ttotal: 17.5s\tremaining: 2m 13s\n",
      "29:\tlearn: -0.8683724\ttotal: 18.1s\tremaining: 2m 12s\n",
      "30:\tlearn: -0.8668568\ttotal: 18.7s\tremaining: 2m 12s\n",
      "31:\tlearn: -0.8657883\ttotal: 19.3s\tremaining: 2m 11s\n",
      "32:\tlearn: -0.8646819\ttotal: 19.9s\tremaining: 2m 10s\n",
      "33:\tlearn: -0.8638591\ttotal: 20.5s\tremaining: 2m 10s\n",
      "34:\tlearn: -0.8628790\ttotal: 21.2s\tremaining: 2m 10s\n",
      "35:\tlearn: -0.8621619\ttotal: 21.8s\tremaining: 2m 9s\n",
      "36:\tlearn: -0.8610636\ttotal: 22.6s\tremaining: 2m 10s\n",
      "37:\tlearn: -0.8604089\ttotal: 23.2s\tremaining: 2m 9s\n",
      "38:\tlearn: -0.8593519\ttotal: 23.9s\tremaining: 2m 9s\n",
      "39:\tlearn: -0.8585164\ttotal: 24.6s\tremaining: 2m 9s\n",
      "40:\tlearn: -0.8576019\ttotal: 25.3s\tremaining: 2m 8s\n",
      "41:\tlearn: -0.8569109\ttotal: 25.9s\tremaining: 2m 8s\n",
      "42:\tlearn: -0.8561806\ttotal: 26.6s\tremaining: 2m 7s\n",
      "43:\tlearn: -0.8554757\ttotal: 27.2s\tremaining: 2m 7s\n",
      "44:\tlearn: -0.8548547\ttotal: 27.8s\tremaining: 2m 6s\n",
      "45:\tlearn: -0.8543002\ttotal: 28.3s\tremaining: 2m 5s\n",
      "46:\tlearn: -0.8535729\ttotal: 28.9s\tremaining: 2m 4s\n",
      "47:\tlearn: -0.8527930\ttotal: 29.5s\tremaining: 2m 4s\n",
      "48:\tlearn: -0.8520217\ttotal: 30.1s\tremaining: 2m 3s\n",
      "49:\tlearn: -0.8514674\ttotal: 30.7s\tremaining: 2m 2s\n",
      "50:\tlearn: -0.8509906\ttotal: 31.3s\tremaining: 2m 2s\n",
      "51:\tlearn: -0.8505105\ttotal: 31.9s\tremaining: 2m 1s\n",
      "52:\tlearn: -0.8499227\ttotal: 32.5s\tremaining: 2m\n",
      "53:\tlearn: -0.8493603\ttotal: 33.1s\tremaining: 2m\n",
      "54:\tlearn: -0.8486759\ttotal: 33.7s\tremaining: 1m 59s\n",
      "55:\tlearn: -0.8481134\ttotal: 34.3s\tremaining: 1m 58s\n",
      "56:\tlearn: -0.8476781\ttotal: 34.9s\tremaining: 1m 58s\n",
      "57:\tlearn: -0.8471470\ttotal: 35.5s\tremaining: 1m 57s\n",
      "58:\tlearn: -0.8467475\ttotal: 36.1s\tremaining: 1m 56s\n",
      "59:\tlearn: -0.8462747\ttotal: 36.7s\tremaining: 1m 56s\n",
      "60:\tlearn: -0.8457324\ttotal: 37.4s\tremaining: 1m 55s\n",
      "61:\tlearn: -0.8453369\ttotal: 38.1s\tremaining: 1m 55s\n",
      "62:\tlearn: -0.8450166\ttotal: 39s\tremaining: 1m 55s\n",
      "63:\tlearn: -0.8445995\ttotal: 39.8s\tremaining: 1m 55s\n",
      "64:\tlearn: -0.8441764\ttotal: 40.5s\tremaining: 1m 55s\n",
      "65:\tlearn: -0.8435826\ttotal: 41.1s\tremaining: 1m 54s\n",
      "66:\tlearn: -0.8431704\ttotal: 41.7s\tremaining: 1m 53s\n",
      "67:\tlearn: -0.8427216\ttotal: 42.3s\tremaining: 1m 53s\n",
      "68:\tlearn: -0.8423543\ttotal: 42.8s\tremaining: 1m 52s\n",
      "69:\tlearn: -0.8419436\ttotal: 43.5s\tremaining: 1m 51s\n",
      "70:\tlearn: -0.8415518\ttotal: 44.1s\tremaining: 1m 51s\n",
      "71:\tlearn: -0.8412203\ttotal: 44.7s\tremaining: 1m 50s\n",
      "72:\tlearn: -0.8407750\ttotal: 45.3s\tremaining: 1m 49s\n",
      "73:\tlearn: -0.8403383\ttotal: 46s\tremaining: 1m 49s\n",
      "74:\tlearn: -0.8399198\ttotal: 46.8s\tremaining: 1m 49s\n",
      "75:\tlearn: -0.8394061\ttotal: 47.6s\tremaining: 1m 48s\n",
      "76:\tlearn: -0.8390939\ttotal: 48.3s\tremaining: 1m 48s\n",
      "77:\tlearn: -0.8387127\ttotal: 49.1s\tremaining: 1m 48s\n",
      "78:\tlearn: -0.8383529\ttotal: 50.2s\tremaining: 1m 48s\n",
      "79:\tlearn: -0.8380492\ttotal: 50.9s\tremaining: 1m 48s\n",
      "80:\tlearn: -0.8377212\ttotal: 51.6s\tremaining: 1m 47s\n",
      "81:\tlearn: -0.8373952\ttotal: 52.2s\tremaining: 1m 47s\n",
      "82:\tlearn: -0.8370770\ttotal: 52.9s\tremaining: 1m 46s\n",
      "83:\tlearn: -0.8367328\ttotal: 53.6s\tremaining: 1m 45s\n",
      "84:\tlearn: -0.8364088\ttotal: 54.2s\tremaining: 1m 45s\n",
      "85:\tlearn: -0.8360611\ttotal: 54.9s\tremaining: 1m 44s\n",
      "86:\tlearn: -0.8357392\ttotal: 55.7s\tremaining: 1m 44s\n",
      "87:\tlearn: -0.8353757\ttotal: 56.4s\tremaining: 1m 43s\n",
      "88:\tlearn: -0.8349953\ttotal: 57.1s\tremaining: 1m 43s\n",
      "89:\tlearn: -0.8346015\ttotal: 57.9s\tremaining: 1m 42s\n",
      "90:\tlearn: -0.8342830\ttotal: 58.8s\tremaining: 1m 42s\n",
      "91:\tlearn: -0.8339845\ttotal: 59.5s\tremaining: 1m 42s\n",
      "92:\tlearn: -0.8335630\ttotal: 1m\tremaining: 1m 41s\n",
      "93:\tlearn: -0.8332485\ttotal: 1m\tremaining: 1m 41s\n",
      "94:\tlearn: -0.8329707\ttotal: 1m 1s\tremaining: 1m 40s\n",
      "95:\tlearn: -0.8326726\ttotal: 1m 2s\tremaining: 1m 40s\n",
      "96:\tlearn: -0.8324046\ttotal: 1m 3s\tremaining: 1m 39s\n",
      "97:\tlearn: -0.8320370\ttotal: 1m 4s\tremaining: 1m 39s\n",
      "98:\tlearn: -0.8316829\ttotal: 1m 4s\tremaining: 1m 38s\n",
      "99:\tlearn: -0.8314360\ttotal: 1m 5s\tremaining: 1m 38s\n",
      "100:\tlearn: -0.8311365\ttotal: 1m 5s\tremaining: 1m 37s\n",
      "101:\tlearn: -0.8308112\ttotal: 1m 6s\tremaining: 1m 36s\n",
      "102:\tlearn: -0.8303203\ttotal: 1m 7s\tremaining: 1m 35s\n",
      "103:\tlearn: -0.8299981\ttotal: 1m 7s\tremaining: 1m 35s\n",
      "104:\tlearn: -0.8297142\ttotal: 1m 8s\tremaining: 1m 34s\n",
      "105:\tlearn: -0.8294390\ttotal: 1m 8s\tremaining: 1m 33s\n",
      "106:\tlearn: -0.8291768\ttotal: 1m 9s\tremaining: 1m 32s\n",
      "107:\tlearn: -0.8288700\ttotal: 1m 10s\tremaining: 1m 32s\n",
      "108:\tlearn: -0.8285785\ttotal: 1m 10s\tremaining: 1m 31s\n",
      "109:\tlearn: -0.8282740\ttotal: 1m 11s\tremaining: 1m 31s\n",
      "110:\tlearn: -0.8279895\ttotal: 1m 12s\tremaining: 1m 30s\n",
      "111:\tlearn: -0.8276114\ttotal: 1m 12s\tremaining: 1m 29s\n",
      "112:\tlearn: -0.8273577\ttotal: 1m 13s\tremaining: 1m 29s\n",
      "113:\tlearn: -0.8270619\ttotal: 1m 14s\tremaining: 1m 29s\n",
      "114:\tlearn: -0.8268355\ttotal: 1m 15s\tremaining: 1m 28s\n",
      "115:\tlearn: -0.8266037\ttotal: 1m 15s\tremaining: 1m 27s\n",
      "116:\tlearn: -0.8264212\ttotal: 1m 16s\tremaining: 1m 26s\n",
      "117:\tlearn: -0.8261953\ttotal: 1m 17s\tremaining: 1m 26s\n",
      "118:\tlearn: -0.8258659\ttotal: 1m 17s\tremaining: 1m 25s\n",
      "119:\tlearn: -0.8256153\ttotal: 1m 18s\tremaining: 1m 24s\n",
      "120:\tlearn: -0.8253648\ttotal: 1m 19s\tremaining: 1m 24s\n",
      "121:\tlearn: -0.8251221\ttotal: 1m 20s\tremaining: 1m 24s\n",
      "122:\tlearn: -0.8248392\ttotal: 1m 21s\tremaining: 1m 23s\n",
      "123:\tlearn: -0.8246193\ttotal: 1m 21s\tremaining: 1m 23s\n",
      "124:\tlearn: -0.8244238\ttotal: 1m 22s\tremaining: 1m 22s\n",
      "125:\tlearn: -0.8240777\ttotal: 1m 23s\tremaining: 1m 21s\n",
      "126:\tlearn: -0.8238220\ttotal: 1m 23s\tremaining: 1m 20s\n",
      "127:\tlearn: -0.8236070\ttotal: 1m 24s\tremaining: 1m 20s\n",
      "128:\tlearn: -0.8232658\ttotal: 1m 24s\tremaining: 1m 19s\n",
      "129:\tlearn: -0.8229870\ttotal: 1m 25s\tremaining: 1m 18s\n",
      "130:\tlearn: -0.8227252\ttotal: 1m 25s\tremaining: 1m 18s\n",
      "131:\tlearn: -0.8224286\ttotal: 1m 26s\tremaining: 1m 17s\n",
      "132:\tlearn: -0.8221219\ttotal: 1m 27s\tremaining: 1m 16s\n",
      "133:\tlearn: -0.8219390\ttotal: 1m 27s\tremaining: 1m 15s\n",
      "134:\tlearn: -0.8216484\ttotal: 1m 28s\tremaining: 1m 15s\n",
      "135:\tlearn: -0.8213988\ttotal: 1m 28s\tremaining: 1m 14s\n",
      "136:\tlearn: -0.8211162\ttotal: 1m 29s\tremaining: 1m 13s\n",
      "137:\tlearn: -0.8208613\ttotal: 1m 30s\tremaining: 1m 13s\n",
      "138:\tlearn: -0.8206401\ttotal: 1m 30s\tremaining: 1m 12s\n",
      "139:\tlearn: -0.8203875\ttotal: 1m 31s\tremaining: 1m 11s\n",
      "140:\tlearn: -0.8201072\ttotal: 1m 31s\tremaining: 1m 10s\n",
      "141:\tlearn: -0.8198489\ttotal: 1m 32s\tremaining: 1m 10s\n",
      "142:\tlearn: -0.8195433\ttotal: 1m 32s\tremaining: 1m 9s\n",
      "143:\tlearn: -0.8192837\ttotal: 1m 33s\tremaining: 1m 8s\n",
      "144:\tlearn: -0.8190174\ttotal: 1m 34s\tremaining: 1m 8s\n",
      "145:\tlearn: -0.8187665\ttotal: 1m 34s\tremaining: 1m 7s\n",
      "146:\tlearn: -0.8185689\ttotal: 1m 35s\tremaining: 1m 6s\n",
      "147:\tlearn: -0.8183296\ttotal: 1m 35s\tremaining: 1m 6s\n",
      "148:\tlearn: -0.8181195\ttotal: 1m 36s\tremaining: 1m 5s\n",
      "149:\tlearn: -0.8178925\ttotal: 1m 36s\tremaining: 1m 4s\n",
      "150:\tlearn: -0.8177412\ttotal: 1m 37s\tremaining: 1m 3s\n",
      "151:\tlearn: -0.8173795\ttotal: 1m 38s\tremaining: 1m 3s\n",
      "152:\tlearn: -0.8171333\ttotal: 1m 38s\tremaining: 1m 2s\n",
      "153:\tlearn: -0.8168274\ttotal: 1m 39s\tremaining: 1m 1s\n"
     ]
    },
    {
     "name": "stdout",
     "output_type": "stream",
     "text": [
      "154:\tlearn: -0.8166180\ttotal: 1m 39s\tremaining: 1m 1s\n",
      "155:\tlearn: -0.8163682\ttotal: 1m 40s\tremaining: 1m\n",
      "156:\tlearn: -0.8161168\ttotal: 1m 40s\tremaining: 59.8s\n",
      "157:\tlearn: -0.8159201\ttotal: 1m 41s\tremaining: 59.1s\n",
      "158:\tlearn: -0.8157062\ttotal: 1m 42s\tremaining: 58.4s\n",
      "159:\tlearn: -0.8154804\ttotal: 1m 42s\tremaining: 57.7s\n",
      "160:\tlearn: -0.8152409\ttotal: 1m 43s\tremaining: 57.1s\n",
      "161:\tlearn: -0.8150033\ttotal: 1m 43s\tremaining: 56.4s\n",
      "162:\tlearn: -0.8147017\ttotal: 1m 44s\tremaining: 55.8s\n",
      "163:\tlearn: -0.8144441\ttotal: 1m 45s\tremaining: 55.3s\n",
      "164:\tlearn: -0.8142046\ttotal: 1m 45s\tremaining: 54.6s\n",
      "165:\tlearn: -0.8140046\ttotal: 1m 46s\tremaining: 54s\n",
      "166:\tlearn: -0.8137374\ttotal: 1m 47s\tremaining: 53.3s\n",
      "167:\tlearn: -0.8134532\ttotal: 1m 48s\tremaining: 52.8s\n",
      "168:\tlearn: -0.8131617\ttotal: 1m 48s\tremaining: 52.1s\n",
      "169:\tlearn: -0.8128750\ttotal: 1m 49s\tremaining: 51.5s\n",
      "170:\tlearn: -0.8126494\ttotal: 1m 49s\tremaining: 50.8s\n",
      "171:\tlearn: -0.8124162\ttotal: 1m 50s\tremaining: 50.1s\n",
      "172:\tlearn: -0.8121970\ttotal: 1m 51s\tremaining: 49.5s\n",
      "173:\tlearn: -0.8119384\ttotal: 1m 51s\tremaining: 48.8s\n",
      "174:\tlearn: -0.8117062\ttotal: 1m 52s\tremaining: 48.1s\n",
      "175:\tlearn: -0.8115061\ttotal: 1m 52s\tremaining: 47.4s\n",
      "176:\tlearn: -0.8112422\ttotal: 1m 53s\tremaining: 46.8s\n",
      "177:\tlearn: -0.8110311\ttotal: 1m 53s\tremaining: 46.1s\n",
      "178:\tlearn: -0.8108132\ttotal: 1m 54s\tremaining: 45.4s\n",
      "179:\tlearn: -0.8104541\ttotal: 1m 55s\tremaining: 44.8s\n",
      "180:\tlearn: -0.8102408\ttotal: 1m 55s\tremaining: 44.1s\n",
      "181:\tlearn: -0.8100154\ttotal: 1m 56s\tremaining: 43.5s\n",
      "182:\tlearn: -0.8097719\ttotal: 1m 56s\tremaining: 42.8s\n",
      "183:\tlearn: -0.8095572\ttotal: 1m 57s\tremaining: 42.2s\n",
      "184:\tlearn: -0.8093584\ttotal: 1m 58s\tremaining: 41.6s\n",
      "185:\tlearn: -0.8091007\ttotal: 1m 58s\tremaining: 40.9s\n",
      "186:\tlearn: -0.8088811\ttotal: 1m 59s\tremaining: 40.2s\n",
      "187:\tlearn: -0.8086452\ttotal: 2m\tremaining: 39.6s\n",
      "188:\tlearn: -0.8084221\ttotal: 2m\tremaining: 38.9s\n",
      "189:\tlearn: -0.8081739\ttotal: 2m 1s\tremaining: 38.3s\n",
      "190:\tlearn: -0.8079518\ttotal: 2m 1s\tremaining: 37.6s\n",
      "191:\tlearn: -0.8077501\ttotal: 2m 2s\tremaining: 37s\n",
      "192:\tlearn: -0.8075513\ttotal: 2m 3s\tremaining: 36.3s\n",
      "193:\tlearn: -0.8073446\ttotal: 2m 4s\tremaining: 35.8s\n",
      "194:\tlearn: -0.8071409\ttotal: 2m 4s\tremaining: 35.2s\n",
      "195:\tlearn: -0.8069681\ttotal: 2m 5s\tremaining: 34.6s\n",
      "196:\tlearn: -0.8067626\ttotal: 2m 6s\tremaining: 34s\n",
      "197:\tlearn: -0.8065445\ttotal: 2m 6s\tremaining: 33.3s\n",
      "198:\tlearn: -0.8062732\ttotal: 2m 7s\tremaining: 32.7s\n",
      "199:\tlearn: -0.8060742\ttotal: 2m 8s\tremaining: 32s\n",
      "200:\tlearn: -0.8058738\ttotal: 2m 8s\tremaining: 31.3s\n",
      "201:\tlearn: -0.8056270\ttotal: 2m 9s\tremaining: 30.7s\n",
      "202:\tlearn: -0.8053967\ttotal: 2m 9s\tremaining: 30s\n",
      "203:\tlearn: -0.8051786\ttotal: 2m 10s\tremaining: 29.4s\n",
      "204:\tlearn: -0.8049252\ttotal: 2m 10s\tremaining: 28.7s\n",
      "205:\tlearn: -0.8047602\ttotal: 2m 11s\tremaining: 28.1s\n",
      "206:\tlearn: -0.8045253\ttotal: 2m 12s\tremaining: 27.4s\n",
      "207:\tlearn: -0.8042491\ttotal: 2m 12s\tremaining: 26.8s\n",
      "208:\tlearn: -0.8040205\ttotal: 2m 13s\tremaining: 26.1s\n",
      "209:\tlearn: -0.8037757\ttotal: 2m 13s\tremaining: 25.5s\n",
      "210:\tlearn: -0.8036085\ttotal: 2m 14s\tremaining: 24.8s\n",
      "211:\tlearn: -0.8034236\ttotal: 2m 14s\tremaining: 24.2s\n",
      "212:\tlearn: -0.8032375\ttotal: 2m 15s\tremaining: 23.5s\n",
      "213:\tlearn: -0.8030292\ttotal: 2m 16s\tremaining: 22.9s\n",
      "214:\tlearn: -0.8027875\ttotal: 2m 16s\tremaining: 22.2s\n",
      "215:\tlearn: -0.8025610\ttotal: 2m 17s\tremaining: 21.6s\n",
      "216:\tlearn: -0.8023139\ttotal: 2m 17s\tremaining: 21s\n",
      "217:\tlearn: -0.8021007\ttotal: 2m 18s\tremaining: 20.4s\n",
      "218:\tlearn: -0.8018936\ttotal: 2m 19s\tremaining: 19.7s\n",
      "219:\tlearn: -0.8017259\ttotal: 2m 19s\tremaining: 19.1s\n",
      "220:\tlearn: -0.8015726\ttotal: 2m 20s\tremaining: 18.4s\n",
      "221:\tlearn: -0.8013709\ttotal: 2m 21s\tremaining: 17.8s\n",
      "222:\tlearn: -0.8011642\ttotal: 2m 21s\tremaining: 17.1s\n",
      "223:\tlearn: -0.8009372\ttotal: 2m 22s\tremaining: 16.5s\n",
      "224:\tlearn: -0.8007059\ttotal: 2m 22s\tremaining: 15.9s\n",
      "225:\tlearn: -0.8004407\ttotal: 2m 23s\tremaining: 15.2s\n",
      "226:\tlearn: -0.8001924\ttotal: 2m 23s\tremaining: 14.6s\n",
      "227:\tlearn: -0.7999739\ttotal: 2m 24s\tremaining: 13.9s\n",
      "228:\tlearn: -0.7997115\ttotal: 2m 25s\tremaining: 13.3s\n",
      "229:\tlearn: -0.7995529\ttotal: 2m 25s\tremaining: 12.7s\n",
      "230:\tlearn: -0.7993394\ttotal: 2m 26s\tremaining: 12s\n",
      "231:\tlearn: -0.7991759\ttotal: 2m 27s\tremaining: 11.4s\n",
      "232:\tlearn: -0.7989759\ttotal: 2m 27s\tremaining: 10.8s\n",
      "233:\tlearn: -0.7987227\ttotal: 2m 28s\tremaining: 10.1s\n",
      "234:\tlearn: -0.7985348\ttotal: 2m 29s\tremaining: 9.52s\n",
      "235:\tlearn: -0.7982693\ttotal: 2m 29s\tremaining: 8.89s\n",
      "236:\tlearn: -0.7979919\ttotal: 2m 30s\tremaining: 8.26s\n",
      "237:\tlearn: -0.7978105\ttotal: 2m 31s\tremaining: 7.63s\n",
      "238:\tlearn: -0.7976036\ttotal: 2m 31s\tremaining: 7s\n",
      "239:\tlearn: -0.7974498\ttotal: 2m 32s\tremaining: 6.36s\n",
      "240:\tlearn: -0.7972492\ttotal: 2m 33s\tremaining: 5.72s\n",
      "241:\tlearn: -0.7970336\ttotal: 2m 33s\tremaining: 5.09s\n",
      "242:\tlearn: -0.7968358\ttotal: 2m 34s\tremaining: 4.45s\n",
      "243:\tlearn: -0.7965729\ttotal: 2m 35s\tremaining: 3.82s\n",
      "244:\tlearn: -0.7963843\ttotal: 2m 35s\tremaining: 3.18s\n",
      "245:\tlearn: -0.7961556\ttotal: 2m 36s\tremaining: 2.54s\n",
      "246:\tlearn: -0.7959851\ttotal: 2m 37s\tremaining: 1.91s\n",
      "247:\tlearn: -0.7958075\ttotal: 2m 37s\tremaining: 1.27s\n",
      "248:\tlearn: -0.7955976\ttotal: 2m 38s\tremaining: 638ms\n",
      "249:\tlearn: -0.7953730\ttotal: 2m 39s\tremaining: 0us\n",
      "CPU times: user 9min 1s, sys: 3.93 s, total: 9min 5s\n",
      "Wall time: 2min 58s\n"
     ]
    }
   ],
   "source": [
    "%%time\n",
    "ctb.fit(data_mean, y);\n",
    "predicted = ctb.predict(test_mean)"
   ]
  },
  {
   "cell_type": "code",
   "execution_count": 2,
   "metadata": {},
   "outputs": [
    {
     "name": "stdout",
     "output_type": "stream",
     "text": [
      "Requirement already satisfied: setuptools in /home/crazytraffic/anaconda3/lib/python3.5/site-packages (38.4.0)\n",
      "\u001b[31mtensorboard 1.6.0 has requirement bleach==1.5.0, but you'll have bleach 2.1.2 which is incompatible.\u001b[0m\n",
      "\u001b[31mtensorboard 1.6.0 has requirement html5lib==0.9999999, but you'll have html5lib 1.0.1 which is incompatible.\u001b[0m\n"
     ]
    }
   ],
   "source": [
    "!pip install setuptools"
   ]
  },
  {
   "cell_type": "code",
   "execution_count": 1,
   "metadata": {},
   "outputs": [
    {
     "ename": "ImportError",
     "evalue": "No module named 'xgboost'",
     "output_type": "error",
     "traceback": [
      "\u001b[0;31m---------------------------------------------------------------------------\u001b[0m",
      "\u001b[0;31mImportError\u001b[0m                               Traceback (most recent call last)",
      "\u001b[0;32m<ipython-input-1-5943d1bfe3f1>\u001b[0m in \u001b[0;36m<module>\u001b[0;34m()\u001b[0m\n\u001b[0;32m----> 1\u001b[0;31m \u001b[0;32mimport\u001b[0m \u001b[0mxgboost\u001b[0m \u001b[0;32mas\u001b[0m \u001b[0mxgb\u001b[0m\u001b[0;34m\u001b[0m\u001b[0m\n\u001b[0m",
      "\u001b[0;31mImportError\u001b[0m: No module named 'xgboost'"
     ]
    }
   ],
   "source": [
    "import xgboost as xgb"
   ]
  },
  {
   "cell_type": "code",
   "execution_count": 39,
   "metadata": {},
   "outputs": [],
   "source": [
    "dtr = xgb.DMatrix(Xtr, label= ytr,missing = np.nan)\n",
    "dval = xgb.DMatrix(Xval, label= yval,missing = np.nan)\n",
    "watchlist = [(dtr, 'train'), (dval, 'eval')]\n",
    "history = dict()"
   ]
  },
  {
   "cell_type": "code",
   "execution_count": 40,
   "metadata": {},
   "outputs": [],
   "source": [
    "params = {\n",
    "    'max_depth': 26,\n",
    "    'eta': 0.025,\n",
    "    'nthread': 4,\n",
    "    'gamma' : 1,\n",
    "    'alpha' : 1,\n",
    "    'subsample': 0.85,\n",
    "    'objective': 'multi:softmax',\n",
    "    'seed':7,\n",
    "    'num_class':3\n",
    "}"
   ]
  },
  {
   "cell_type": "code",
   "execution_count": 41,
   "metadata": {},
   "outputs": [
    {
     "name": "stdout",
     "output_type": "stream",
     "text": [
      "[0]\ttrain-merror:0.145298\teval-merror:0.477931\n",
      "[20]\ttrain-merror:0.031836\teval-merror:0.40811\n",
      "[39]\ttrain-merror:0.023531\teval-merror:0.404163\n"
     ]
    }
   ],
   "source": [
    "model_new = xgb.train(params, dtr, num_boost_round=40, evals=watchlist,evals_result=history, verbose_eval=20)"
   ]
  },
  {
   "cell_type": "code",
   "execution_count": 42,
   "metadata": {},
   "outputs": [],
   "source": [
    "predicted = model_new.predict(xgb.DMatrix(test_mean))"
   ]
  },
  {
   "cell_type": "code",
   "execution_count": 57,
   "metadata": {},
   "outputs": [],
   "source": [
    "from sklearn.linear_model import LogisticRegression"
   ]
  },
  {
   "cell_type": "code",
   "execution_count": 58,
   "metadata": {},
   "outputs": [
    {
     "name": "stderr",
     "output_type": "stream",
     "text": [
      "/home/antikov/anaconda3/lib/python3.6/site-packages/sklearn/linear_model/logistic.py:1228: UserWarning: 'n_jobs' > 1 does not have any effect when 'solver' is set to 'liblinear'. Got 'n_jobs' = -1.\n",
      "  \" = {}.\".format(self.n_jobs))\n"
     ]
    }
   ],
   "source": [
    "lr = LogisticRegression(random_state=17, n_jobs=-1).fit(data_mean, y)"
   ]
  },
  {
   "cell_type": "code",
   "execution_count": 59,
   "metadata": {},
   "outputs": [],
   "source": [
    "predicted = lr.predict(test_mean)"
   ]
  },
  {
   "cell_type": "code",
   "execution_count": 53,
   "metadata": {},
   "outputs": [],
   "source": [
    "svc = LinearSVC(loss='hinge', random_state=17,)"
   ]
  },
  {
   "cell_type": "code",
   "execution_count": 54,
   "metadata": {},
   "outputs": [
    {
     "data": {
      "text/plain": [
       "LinearSVC(C=1.0, class_weight=None, dual=True, fit_intercept=True,\n",
       "     intercept_scaling=1, loss='hinge', max_iter=1000, multi_class='ovr',\n",
       "     penalty='l2', random_state=17, tol=0.0001, verbose=0)"
      ]
     },
     "execution_count": 54,
     "metadata": {},
     "output_type": "execute_result"
    }
   ],
   "source": [
    "svc.fit(data_mean, y)"
   ]
  },
  {
   "cell_type": "code",
   "execution_count": 55,
   "metadata": {},
   "outputs": [],
   "source": [
    "predicted = svc.predict(test_mean)"
   ]
  },
  {
   "cell_type": "code",
   "execution_count": 43,
   "metadata": {},
   "outputs": [],
   "source": [
    "test['target'] = predicted\n",
    "test['target'] = test['target'].astype('int')\n",
    "test = test.sort_values(['context_id', 'target'], ascending=[True, False])\n",
    "test[['context_id','reply_id']].to_csv('submission_3.tsv', index=False, header=None, sep='\\t')"
   ]
  },
  {
   "cell_type": "code",
   "execution_count": null,
   "metadata": {},
   "outputs": [],
   "source": []
  },
  {
   "cell_type": "code",
   "execution_count": null,
   "metadata": {},
   "outputs": [],
   "source": []
  }
 ],
 "metadata": {
  "kernelspec": {
   "display_name": "Python 3",
   "language": "python",
   "name": "python3"
  },
  "language_info": {
   "codemirror_mode": {
    "name": "ipython",
    "version": 3
   },
   "file_extension": ".py",
   "mimetype": "text/x-python",
   "name": "python",
   "nbconvert_exporter": "python",
   "pygments_lexer": "ipython3",
   "version": "3.5.4"
  }
 },
 "nbformat": 4,
 "nbformat_minor": 2
}
